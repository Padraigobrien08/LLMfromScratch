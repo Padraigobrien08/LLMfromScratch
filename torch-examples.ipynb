{
 "cells": [
  {
   "cell_type": "code",
   "execution_count": 1,
   "id": "3ecd9d47-4d34-4297-9296-193a713efd6d",
   "metadata": {},
   "outputs": [],
   "source": [
    "import torch"
   ]
  },
  {
   "cell_type": "code",
   "execution_count": 2,
   "id": "df2b2ca7-09c9-45ee-9019-fcbdb1fe3a44",
   "metadata": {},
   "outputs": [
    {
     "data": {
      "text/plain": [
       "tensor([-39,  96, -57,   8,  44, -41])"
      ]
     },
     "execution_count": 2,
     "metadata": {},
     "output_type": "execute_result"
    }
   ],
   "source": [
    "randint = torch.randint(-100, 100, (6,))\n",
    "randint"
   ]
  },
  {
   "cell_type": "code",
   "execution_count": 3,
   "id": "47a6592f-6e46-4eff-8357-e67cfdc0998f",
   "metadata": {},
   "outputs": [
    {
     "data": {
      "text/plain": [
       "tensor([[0.1000, 1.2000],\n",
       "        [2.2000, 3.1000],\n",
       "        [4.9000, 5.2000]])"
      ]
     },
     "execution_count": 3,
     "metadata": {},
     "output_type": "execute_result"
    }
   ],
   "source": [
    "tensor = torch.tensor([[0.1, 1.2], [2.2, 3.1], [4.9, 5.2]])\n",
    "tensor"
   ]
  },
  {
   "cell_type": "code",
   "execution_count": 4,
   "id": "fd2c2f8f-4031-4c83-bb08-725fb042cddd",
   "metadata": {},
   "outputs": [
    {
     "data": {
      "text/plain": [
       "tensor([[0., 0., 0.],\n",
       "        [0., 0., 0.]])"
      ]
     },
     "execution_count": 4,
     "metadata": {},
     "output_type": "execute_result"
    }
   ],
   "source": [
    "zeros = torch.zeros(2,3)\n",
    "zeros"
   ]
  },
  {
   "cell_type": "code",
   "execution_count": 5,
   "id": "5374584f-995c-4f99-aa3f-88f1a08bc99c",
   "metadata": {},
   "outputs": [
    {
     "data": {
      "text/plain": [
       "tensor([[1., 1., 1., 1.],\n",
       "        [1., 1., 1., 1.],\n",
       "        [1., 1., 1., 1.]])"
      ]
     },
     "execution_count": 5,
     "metadata": {},
     "output_type": "execute_result"
    }
   ],
   "source": [
    "ones = torch.ones(3,4)\n",
    "ones"
   ]
  },
  {
   "cell_type": "code",
   "execution_count": 6,
   "id": "cd189a2e-3647-492f-8380-4bb31a7f4973",
   "metadata": {},
   "outputs": [
    {
     "data": {
      "text/plain": [
       "tensor([[0., 0., 0.],\n",
       "        [0., 0., 0.]])"
      ]
     },
     "execution_count": 6,
     "metadata": {},
     "output_type": "execute_result"
    }
   ],
   "source": [
    "input = torch.empty(2,3)\n",
    "input"
   ]
  },
  {
   "cell_type": "code",
   "execution_count": 7,
   "id": "c53f06aa-8c0c-4f74-9e1a-5892dcec6a1a",
   "metadata": {},
   "outputs": [
    {
     "data": {
      "text/plain": [
       "tensor([0, 1, 2, 3, 4])"
      ]
     },
     "execution_count": 7,
     "metadata": {},
     "output_type": "execute_result"
    }
   ],
   "source": [
    "arange = torch.arange(5)\n",
    "arange"
   ]
  },
  {
   "cell_type": "code",
   "execution_count": 8,
   "id": "a032fb08-5f87-4e88-83ca-2ccdba640529",
   "metadata": {},
   "outputs": [
    {
     "data": {
      "text/plain": [
       "tensor([ 3.0000,  4.7500,  6.5000,  8.2500, 10.0000])"
      ]
     },
     "execution_count": 8,
     "metadata": {},
     "output_type": "execute_result"
    }
   ],
   "source": [
    "linspace = torch.linspace(3,10, steps=5)\n",
    "linspace"
   ]
  },
  {
   "cell_type": "code",
   "execution_count": 9,
   "id": "76b9c459-d79c-4ca0-b2dd-69b88fa154b6",
   "metadata": {},
   "outputs": [
    {
     "data": {
      "text/plain": [
       "tensor([1.0000e-10, 1.0000e-05, 1.0000e+00, 1.0000e+05, 1.0000e+10])"
      ]
     },
     "execution_count": 9,
     "metadata": {},
     "output_type": "execute_result"
    }
   ],
   "source": [
    "logspace = torch.logspace(start = -10, end = 10, steps = 5)\n",
    "logspace"
   ]
  },
  {
   "cell_type": "code",
   "execution_count": 10,
   "id": "f8503815-89a1-4101-b9e6-b6849bcefa13",
   "metadata": {},
   "outputs": [
    {
     "data": {
      "text/plain": [
       "tensor([[1., 0., 0., 0., 0.],\n",
       "        [0., 1., 0., 0., 0.],\n",
       "        [0., 0., 1., 0., 0.],\n",
       "        [0., 0., 0., 1., 0.],\n",
       "        [0., 0., 0., 0., 1.]])"
      ]
     },
     "execution_count": 10,
     "metadata": {},
     "output_type": "execute_result"
    }
   ],
   "source": [
    "eye = torch.eye(5)\n",
    "eye"
   ]
  },
  {
   "cell_type": "code",
   "execution_count": 11,
   "id": "3602e3c8-2a37-46c9-a271-7de55854e3e8",
   "metadata": {},
   "outputs": [
    {
     "data": {
      "text/plain": [
       "tensor([[0, 0, 0],\n",
       "        [0, 0, 0]])"
      ]
     },
     "execution_count": 11,
     "metadata": {},
     "output_type": "execute_result"
    }
   ],
   "source": [
    "a = torch.empty((2,3), dtype = torch.int64)\n",
    "empty_like = torch.empty_like(a)\n",
    "empty_like"
   ]
  },
  {
   "cell_type": "code",
   "execution_count": 12,
   "id": "41549eda-cecb-4395-a08c-d0f6af16a831",
   "metadata": {},
   "outputs": [
    {
     "name": "stdout",
     "output_type": "stream",
     "text": [
      "mps\n"
     ]
    }
   ],
   "source": [
    "device = 'mps' if torch.mps.is_available() else 'cpu'\n",
    "print(device)"
   ]
  },
  {
   "cell_type": "code",
   "execution_count": 13,
   "id": "2c66d219-1142-4d28-84eb-832cf698b58b",
   "metadata": {},
   "outputs": [
    {
     "name": "stdout",
     "output_type": "stream",
     "text": [
      "0.0001428127\n"
     ]
    }
   ],
   "source": [
    "import numpy as np\n",
    "import time\n",
    "start_time = time.time()\n",
    "zeros = torch.zeros(1,1)\n",
    "end_time = time.time()\n",
    "\n",
    "elapsed_time = end_time - start_time\n",
    "print(f\"{elapsed_time:.10f}\")"
   ]
  },
  {
   "cell_type": "code",
   "execution_count": 14,
   "id": "a37a29d6-d3ae-46a2-b3a0-d771c78beb28",
   "metadata": {},
   "outputs": [
    {
     "name": "stdout",
     "output_type": "stream",
     "text": [
      "0.0826179981\n",
      "0.5252950191\n",
      "CPU times: user 874 ms, sys: 549 ms, total: 1.42 s\n",
      "Wall time: 1.8 s\n"
     ]
    },
    {
     "name": "stderr",
     "output_type": "stream",
     "text": [
      "<timed exec>:18: DeprecationWarning: __array_wrap__ must accept context and return_scalar arguments (positionally) in the future. (Deprecated NumPy 2.0)\n"
     ]
    }
   ],
   "source": [
    "%%time\n",
    "\n",
    "torch_rand1 = torch.rand(100, 100, 100, 100).to(device)\n",
    "torch_rand2 = torch.rand(100, 100, 100, 100).to(device)\n",
    "\n",
    "np_rand1 = torch.rand(100, 100, 100, 100)\n",
    "np_rand2 = torch.rand(100, 100, 100, 100)\n",
    "\n",
    "start_time = time.time()\n",
    "\n",
    "rand = (torch_rand1 @ torch_rand2)\n",
    "\n",
    "end_time = time.time()\n",
    "elapsed_time = end_time - start_time\n",
    "print(f\"{elapsed_time:.10f}\")\n",
    "\n",
    "\n",
    "start_time = time.time()\n",
    "\n",
    "rand = np.multiply(np_rand1, np_rand2)\n",
    "\n",
    "end_time = time.time()\n",
    "elapsed_time = end_time - start_time\n",
    "print(f\"{elapsed_time:.10f}\")"
   ]
  },
  {
   "cell_type": "code",
   "execution_count": 15,
   "id": "17035380-5b81-475d-ad08-a0d1de91e6b8",
   "metadata": {},
   "outputs": [
    {
     "name": "stdout",
     "output_type": "stream",
     "text": [
      "tensor([1, 1, 1, 1, 1, 1, 1, 1, 1, 1])\n"
     ]
    }
   ],
   "source": [
    "# torch.stack, torch.mulinomial, torch.trill, torch.triu, input.T/input.transpose, nn.linear, torch.cat, F.softmax\n",
    "\n",
    "# Define Probability Tensors\n",
    "probabilities = torch.tensor([0.1, 0.9])\n",
    "# 10% or 0.1 => 0; 90% or 0.9 => 1 each probability points to the index of the probability in the tensor\n",
    "# Draw 5 samples from the multinomial distribution\n",
    "\n",
    "samples = torch.multinomial(probabilities, num_samples = 10, replacement = True)\n",
    "print(samples)"
   ]
  },
  {
   "cell_type": "code",
   "execution_count": 16,
   "id": "243b1fb2-c762-4752-914b-037bbff3def5",
   "metadata": {},
   "outputs": [
    {
     "data": {
      "text/plain": [
       "tensor([1, 2, 3, 4, 5])"
      ]
     },
     "execution_count": 16,
     "metadata": {},
     "output_type": "execute_result"
    }
   ],
   "source": [
    "# torch.cat is short for torch.concatenate()\n",
    "\n",
    "tensor = torch.tensor([1,2,3,4])\n",
    "out = torch.cat((tensor, torch.tensor([5])), dim = 0)\n",
    "out"
   ]
  },
  {
   "cell_type": "code",
   "execution_count": 17,
   "id": "a9b1a761-6f57-4d22-b7e8-6947ea0233fb",
   "metadata": {},
   "outputs": [
    {
     "data": {
      "text/plain": [
       "tensor([[1., 0., 0., 0., 0.],\n",
       "        [1., 1., 0., 0., 0.],\n",
       "        [1., 1., 1., 0., 0.],\n",
       "        [1., 1., 1., 1., 0.],\n",
       "        [1., 1., 1., 1., 1.]])"
      ]
     },
     "execution_count": 17,
     "metadata": {},
     "output_type": "execute_result"
    }
   ],
   "source": [
    "out = torch.tril(torch.ones(5,5))\n",
    "out"
   ]
  },
  {
   "cell_type": "code",
   "execution_count": 18,
   "id": "6a0fdf53-89ef-423f-a520-2a607bed675a",
   "metadata": {},
   "outputs": [
    {
     "data": {
      "text/plain": [
       "tensor([[1., 1., 1., 1., 1.],\n",
       "        [0., 1., 1., 1., 1.],\n",
       "        [0., 0., 1., 1., 1.],\n",
       "        [0., 0., 0., 1., 1.],\n",
       "        [0., 0., 0., 0., 1.]])"
      ]
     },
     "execution_count": 18,
     "metadata": {},
     "output_type": "execute_result"
    }
   ],
   "source": [
    "out = torch.triu(torch.ones(5,5))\n",
    "out"
   ]
  },
  {
   "cell_type": "code",
   "execution_count": 19,
   "id": "8e19e2fb-df00-4112-9779-b4d388f815ba",
   "metadata": {},
   "outputs": [
    {
     "data": {
      "text/plain": [
       "tensor([[0., -inf, -inf, -inf, -inf],\n",
       "        [0., 0., -inf, -inf, -inf],\n",
       "        [0., 0., 0., -inf, -inf],\n",
       "        [0., 0., 0., 0., -inf],\n",
       "        [0., 0., 0., 0., 0.]])"
      ]
     },
     "execution_count": 19,
     "metadata": {},
     "output_type": "execute_result"
    }
   ],
   "source": [
    "out = torch.zeros(5,5).masked_fill(torch.tril(torch.ones(5,5)) == 0, float('-inf'))\n",
    "out"
   ]
  },
  {
   "cell_type": "code",
   "execution_count": 20,
   "id": "9d64cb59-2592-44c3-a363-a2d973dd3a32",
   "metadata": {},
   "outputs": [
    {
     "data": {
      "text/plain": [
       "tensor([[1., 0., 0., 0., 0.],\n",
       "        [1., 1., 0., 0., 0.],\n",
       "        [1., 1., 1., 0., 0.],\n",
       "        [1., 1., 1., 1., 0.],\n",
       "        [1., 1., 1., 1., 1.]])"
      ]
     },
     "execution_count": 20,
     "metadata": {},
     "output_type": "execute_result"
    }
   ],
   "source": [
    "torch.exp(out)"
   ]
  },
  {
   "cell_type": "code",
   "execution_count": 21,
   "id": "c2c74bb0-b4e9-4045-90b9-19aee4e98a05",
   "metadata": {},
   "outputs": [
    {
     "data": {
      "text/plain": [
       "torch.Size([4, 3, 2])"
      ]
     },
     "execution_count": 21,
     "metadata": {},
     "output_type": "execute_result"
    }
   ],
   "source": [
    "input = torch.zeros(2,3,4)\n",
    "out = input.transpose(0,2)\n",
    "out.shape"
   ]
  },
  {
   "cell_type": "code",
   "execution_count": 22,
   "id": "99370a46-c450-491f-9978-1e93e12175d9",
   "metadata": {},
   "outputs": [
    {
     "data": {
      "text/plain": [
       "tensor([[1, 2, 3],\n",
       "        [4, 5, 6],\n",
       "        [7, 8, 9]])"
      ]
     },
     "execution_count": 22,
     "metadata": {},
     "output_type": "execute_result"
    }
   ],
   "source": [
    "tensor1 = torch.tensor([1,2,3])\n",
    "tensor2 = torch.tensor([4,5,6])\n",
    "tensor3 = torch.tensor([7,8,9])\n",
    "\n",
    "stacked_tensor = torch.stack([tensor1, tensor2, tensor3])\n",
    "stacked_tensor"
   ]
  },
  {
   "cell_type": "code",
   "execution_count": 23,
   "id": "9cd05862-2bec-481c-98fd-c71201094c46",
   "metadata": {},
   "outputs": [
    {
     "name": "stdout",
     "output_type": "stream",
     "text": [
      "tensor([-2.6008e-03,  6.5592e+00,  9.2557e+00], grad_fn=<SqueezeBackward4>)\n"
     ]
    }
   ],
   "source": [
    "import torch.nn as nn\n",
    "sample = torch.tensor([10., 10., 10.])\n",
    "linear = nn.Linear(3,3, bias = False)\n",
    "print(linear(sample))"
   ]
  },
  {
   "cell_type": "code",
   "execution_count": 24,
   "id": "e9a44d16-ac9e-4c70-bef3-d59c52d72fd9",
   "metadata": {},
   "outputs": [
    {
     "name": "stdout",
     "output_type": "stream",
     "text": [
      "tensor([0.0900, 0.2447, 0.6652])\n"
     ]
    }
   ],
   "source": [
    "import torch.nn.functional as F\n",
    "\n",
    "tensor1 = torch.tensor([1.0, 2.0, 3.0])\n",
    "\n",
    "softmax_output = F.softmax(tensor1, dim = 0)\n",
    "\n",
    "print(softmax_output)"
   ]
  },
  {
   "cell_type": "code",
   "execution_count": 25,
   "id": "40540812-c111-4100-853f-502ef236c695",
   "metadata": {},
   "outputs": [
    {
     "name": "stdout",
     "output_type": "stream",
     "text": [
      "torch.Size([4, 100])\n",
      "tensor([[-2.8463e-01,  1.5087e+00,  2.4466e-01,  1.1488e+00, -3.0988e-01,\n",
      "          9.6603e-01,  1.6072e+00, -3.8339e-01,  1.2230e+00, -5.9786e-01,\n",
      "         -3.9086e-01, -1.0566e+00, -2.4765e-01,  1.2552e-01, -4.1211e-01,\n",
      "          3.1325e+00, -9.6522e-01,  1.8918e+00, -4.8321e-01,  2.1032e-01,\n",
      "         -1.2787e+00, -3.4198e-01, -7.9920e-01,  1.4335e-01,  8.7077e-01,\n",
      "         -1.4928e+00,  1.4991e+00, -7.7808e-02, -7.5780e-01,  7.2605e-01,\n",
      "         -7.3705e-01, -9.3054e-01, -1.9369e+00, -2.8424e-02, -1.8788e+00,\n",
      "          1.1576e+00, -2.8198e-03,  1.7869e-02, -4.0420e-01,  7.9883e-01,\n",
      "          1.7884e-01,  6.7793e-01,  4.7647e-01, -7.6011e-01,  1.3063e+00,\n",
      "          7.6816e-01, -1.3820e+00,  1.1050e+00, -2.4774e-01, -2.0382e+00,\n",
      "         -1.2326e-01, -7.1512e-01, -9.6920e-01, -1.0528e+00,  9.2456e-02,\n",
      "         -2.6248e-01, -1.9444e+00,  5.4181e-01,  4.3090e-01, -6.4291e-01,\n",
      "         -2.0604e+00, -3.4400e-02, -1.1058e+00,  1.4025e-01,  2.1564e+00,\n",
      "          6.2827e-02,  1.1389e+00,  1.8656e+00,  9.9711e-01, -3.4204e-01,\n",
      "         -3.2029e-01, -3.7325e-01,  1.0818e+00,  1.5021e-01, -4.0500e-01,\n",
      "          1.7587e-01, -1.1053e+00,  8.9600e-01,  3.0317e-01,  8.7076e-01,\n",
      "         -4.8430e-01,  1.5720e+00, -1.7030e+00,  1.5306e+00, -6.7694e-01,\n",
      "         -3.1331e-01,  5.6702e-01,  4.1996e-01,  6.2126e-01,  5.0823e-01,\n",
      "         -6.9742e-01, -2.7216e-02, -3.4019e-01,  2.3939e+00, -1.5352e+00,\n",
      "         -7.4447e-02,  5.5801e-02, -6.3305e-01, -4.6468e-01, -6.2322e-01],\n",
      "        [ 7.6651e-01, -4.5180e-01, -1.5518e+00,  9.5812e-01, -6.5163e-01,\n",
      "          6.5516e-01, -7.8939e-01,  8.9902e-01,  5.8108e-01,  6.5747e-01,\n",
      "          1.7486e+00, -1.9668e-01,  1.0120e-01, -1.5432e+00, -4.4134e-01,\n",
      "         -7.0193e-01, -1.2371e+00,  1.0669e+00, -9.2151e-01, -2.2696e+00,\n",
      "          6.5934e-01, -1.5398e+00,  1.3718e+00, -6.7431e-01,  5.9532e-01,\n",
      "         -1.0078e+00,  8.3698e-01, -1.0549e+00,  6.3135e-01, -6.9733e-01,\n",
      "         -8.5248e-01,  2.1870e-01,  8.8341e-01, -9.1143e-01, -2.1584e+00,\n",
      "         -2.9415e-03,  1.4658e-01, -1.3256e-01,  5.1638e-01,  5.4650e-01,\n",
      "          9.1905e-01, -4.0538e-02,  8.7453e-01, -5.6687e-01,  3.3942e-01,\n",
      "         -1.4291e-02, -1.3874e+00,  1.3992e+00,  1.4596e+00,  1.0583e-01,\n",
      "          2.8412e+00,  1.1516e+00, -1.4225e+00, -2.1387e-01,  7.6161e-01,\n",
      "         -3.4841e-01, -1.1611e+00,  3.9157e-01,  8.8679e-01, -2.3878e-02,\n",
      "         -3.3590e-01,  1.8036e+00,  3.9438e-01,  1.9670e+00,  1.7322e-01,\n",
      "          1.6095e-01, -2.1379e+00,  2.6387e-02, -2.3534e+00,  1.0826e+00,\n",
      "         -1.1837e-01, -1.1408e+00, -7.4055e-01, -1.8682e+00, -8.9413e-01,\n",
      "          1.2211e+00, -7.9913e-01,  2.9931e-01, -6.8573e-01,  3.3941e-01,\n",
      "         -1.2617e+00,  7.8807e-01,  3.5794e-01,  4.7474e-01, -8.8443e-02,\n",
      "          1.4511e-01, -2.9295e+00, -7.2929e-02, -1.2037e+00,  2.9916e-01,\n",
      "         -7.5894e-04, -1.1988e-01, -1.4919e-01,  7.8904e-02, -9.8121e-01,\n",
      "         -1.5128e+00, -7.7767e-01, -1.6135e-01, -1.7681e+00, -1.4322e+00],\n",
      "        [-8.8972e-01, -1.3040e+00, -2.4297e+00, -5.0045e-01,  9.5761e-01,\n",
      "          1.7254e+00,  7.1755e-01, -1.3833e-02,  1.1783e+00,  8.3184e-01,\n",
      "         -2.9967e-01, -7.7574e-01, -6.9817e-02, -1.2247e+00, -1.0291e-01,\n",
      "         -5.9431e-02,  1.0694e+00,  1.2728e+00,  1.0927e+00, -3.0475e-01,\n",
      "          1.9392e+00,  9.7275e-01, -6.1572e-01, -4.4264e-01,  4.4822e-01,\n",
      "         -1.5477e+00, -1.8833e+00, -1.6571e+00, -5.8458e-01, -1.5740e-01,\n",
      "         -1.5340e+00, -1.1547e+00,  7.1460e-02, -2.1701e-01, -4.8867e-02,\n",
      "          5.4376e-01, -3.5788e-01,  3.6390e-01, -8.8521e-01, -9.4740e-01,\n",
      "         -8.7424e-01,  8.4616e-01, -3.2221e-01, -4.5698e-01, -4.5976e-01,\n",
      "          1.0956e+00,  5.5219e-01,  3.9068e-01,  7.7479e-01,  3.6113e-01,\n",
      "         -3.6754e-01,  2.5145e-01, -6.0141e-02, -1.3824e+00, -1.7201e+00,\n",
      "          2.0290e+00,  1.9097e-01,  1.6438e-01,  1.0080e+00, -4.2180e-01,\n",
      "          3.1034e-01, -1.5199e+00,  1.0702e+00,  5.3105e-01, -4.5518e-01,\n",
      "         -4.5280e-01, -5.5551e-01,  3.1352e-02, -1.4710e+00,  5.1992e-01,\n",
      "         -7.5363e-01, -5.1318e-01,  2.4948e-01,  5.9933e-01,  1.0967e+00,\n",
      "         -1.0920e+00,  9.2684e-01, -1.5395e+00,  2.1354e-01,  5.1255e-01,\n",
      "          1.2609e-01,  1.2347e-01, -3.3891e-01,  1.7443e+00, -8.2262e-01,\n",
      "          1.1677e+00,  7.7066e-02, -8.9769e-01,  1.5485e+00, -4.9438e-01,\n",
      "         -1.4497e+00,  2.9052e-01, -4.9864e-01,  9.2659e-01, -1.6141e+00,\n",
      "          6.2302e-01, -2.1482e-01,  1.0630e+00,  2.2889e-01,  1.3322e+00],\n",
      "        [ 4.4467e-01,  4.4019e-01,  2.0066e+00, -5.3035e-01,  8.8076e-01,\n",
      "         -2.4113e-02, -9.6175e-01,  1.3964e+00,  4.4891e-01,  1.7534e-01,\n",
      "         -1.9472e-01, -6.8732e-01, -2.3432e-01, -1.9377e-02, -1.4962e-01,\n",
      "          1.0427e+00,  4.5924e-01,  1.1750e+00, -5.2336e-01, -1.1611e+00,\n",
      "         -3.8651e-01, -1.0542e-01,  1.0943e+00, -3.5606e-01, -1.9498e-01,\n",
      "          8.5134e-01,  1.7894e-01,  1.1567e+00, -1.1912e+00,  4.8394e-01,\n",
      "          1.5751e+00,  1.1269e-01, -4.8472e-01,  1.1698e-01,  2.1991e+00,\n",
      "         -5.6701e-01, -6.6657e-01,  7.5693e-01,  8.6464e-01,  1.5463e+00,\n",
      "         -1.2125e+00,  1.6799e-01, -1.4681e+00, -4.8681e-01,  1.8914e+00,\n",
      "         -1.5269e+00, -8.9788e-01,  1.4141e-01, -1.2629e+00,  6.0693e-01,\n",
      "          9.3663e-03, -7.4777e-01, -4.1243e-01, -3.2574e-01,  6.7001e-01,\n",
      "         -5.8841e-02, -9.7636e-01, -3.4813e-01,  6.5211e-01, -1.0292e+00,\n",
      "         -1.3546e+00,  1.7461e-01,  5.0692e-01, -5.3864e-02, -5.8891e-01,\n",
      "         -1.1404e+00, -2.3988e+00, -1.8078e+00,  6.9550e-01, -7.6162e-01,\n",
      "         -2.7109e-01, -1.7756e-01,  8.3947e-01,  1.1106e+00, -3.6334e-01,\n",
      "         -1.7564e-01,  5.7378e-01,  8.3859e-01, -1.2883e+00, -3.9866e-01,\n",
      "         -6.7590e-01,  1.2092e+00, -6.8004e-01, -1.3995e+00,  1.7969e+00,\n",
      "         -7.5601e-01, -1.1228e+00,  7.8495e-01,  2.8308e-01, -1.0177e+00,\n",
      "         -1.1196e+00, -4.9697e-01,  5.2891e-01, -4.2183e-01,  7.4530e-01,\n",
      "          1.0030e+00, -4.5629e-01,  1.1467e+00,  6.6142e-02, -1.1095e-01]],\n",
      "       grad_fn=<EmbeddingBackward0>)\n"
     ]
    }
   ],
   "source": [
    "vocab_size = 1000\n",
    "embedding_dim = 100\n",
    "embedding = nn.Embedding(vocab_size, embedding_dim)\n",
    "\n",
    "input_indices = torch.LongTensor([1,5,3,2])\n",
    "\n",
    "embedded_output = embedding(input_indices)\n",
    "\n",
    "print(embedded_output.shape)\n",
    "print(embedded_output)"
   ]
  },
  {
   "cell_type": "code",
   "execution_count": 26,
   "id": "22cb3d0a-c8a1-466e-8f05-ba62c8645050",
   "metadata": {},
   "outputs": [
    {
     "name": "stdout",
     "output_type": "stream",
     "text": [
      "torch.Size([4, 6])\n",
      "tensor([[ 0.3162,  0.1552, -2.7023, -0.2645,  0.2772,  1.2967],\n",
      "        [-0.0428,  2.4978,  0.0862, -1.6025,  1.4782,  0.6918],\n",
      "        [ 0.2181,  0.1432, -1.0313,  0.1766, -0.5978, -1.1693],\n",
      "        [-0.0909,  1.1764, -1.7436, -0.0526, -0.0693,  0.0817]],\n",
      "       grad_fn=<EmbeddingBackward0>)\n"
     ]
    }
   ],
   "source": [
    "vocab_size = 80\n",
    "embedding_dim = 6\n",
    "embedding = nn.Embedding(vocab_size, embedding_dim)\n",
    "\n",
    "input_indices = torch.LongTensor([1,5,3,2])\n",
    "\n",
    "embedded_output = embedding(input_indices)\n",
    "\n",
    "print(embedded_output.shape)\n",
    "print(embedded_output)"
   ]
  },
  {
   "cell_type": "code",
   "execution_count": 27,
   "id": "9f1c48c4-7962-49d6-b690-999ddc89aa33",
   "metadata": {},
   "outputs": [
    {
     "data": {
      "text/plain": [
       "tensor([[ 27,  30,  33],\n",
       "        [ 61,  68,  75],\n",
       "        [ 95, 106, 117]])"
      ]
     },
     "execution_count": 27,
     "metadata": {},
     "output_type": "execute_result"
    }
   ],
   "source": [
    "a = torch.tensor([[1,2], [3,4], [5,6]])\n",
    "b = torch.tensor([[7,8,9], [10,11,12]])\n",
    "\n",
    "a @ b"
   ]
  },
  {
   "cell_type": "code",
   "execution_count": 30,
   "id": "34097f31-e905-4326-bf92-520eb9439972",
   "metadata": {},
   "outputs": [
    {
     "name": "stdout",
     "output_type": "stream",
     "text": [
      "tensor([[0., 0., 0.],\n",
      "        [0., 0., 0.],\n",
      "        [0., 0., 0.]])\n"
     ]
    }
   ],
   "source": [
    "int_64 = torch.randint(1,(3,2)).float()\n",
    "float_32 = torch.rand(2,3)\n",
    "result = torch.matmul(int_64, float_32)\n",
    "print(result)"
   ]
  },
  {
   "cell_type": "code",
   "execution_count": 32,
   "id": "41b52e3b",
   "metadata": {},
   "outputs": [
    {
     "name": "stdout",
     "output_type": "stream",
     "text": [
      "torch.Size([2, 3, 5])\n",
      "torch.Size([2, 3, 5])\n",
      "2 3 5\n"
     ]
    }
   ],
   "source": [
    "a = torch.rand(2,3,5)\n",
    "print(a.shape)\n",
    "x,y,z = a.shape\n",
    "a = a.view(x,y,z)\n",
    "print(a.shape)\n",
    "print(x,y,z)"
   ]
  },
  {
   "cell_type": "code",
   "execution_count": 33,
   "id": "773b6f9e",
   "metadata": {},
   "outputs": [
    {
     "name": "stdout",
     "output_type": "stream",
     "text": [
      "tensor([[0.8316, 0.4579, 0.4720, 0.2647, 0.2297, 0.2166, 0.6904, 0.0177, 0.7343,\n",
      "         0.9019],\n",
      "        [0.4650, 0.1992, 0.0485, 0.1530, 0.1073, 0.1249, 0.2812, 0.9585, 0.3962,\n",
      "         0.2875],\n",
      "        [0.2884, 0.1205, 0.1432, 0.1819, 0.7010, 0.7946, 0.8138, 0.5337, 0.7852,\n",
      "         0.1950],\n",
      "        [0.2200, 0.8299, 0.0237, 0.5068, 0.8073, 0.7635, 0.6105, 0.7140, 0.8473,\n",
      "         0.2199],\n",
      "        [0.8060, 0.2925, 0.6797, 0.2447, 0.3558, 0.4920, 0.7405, 0.3268, 0.4707,\n",
      "         0.2194],\n",
      "        [0.5739, 0.3175, 0.5190, 0.7186, 0.3403, 0.4046, 0.3939, 0.8819, 0.6861,\n",
      "         0.0405],\n",
      "        [0.6510, 0.2144, 0.8696, 0.5450, 0.9554, 0.9305, 0.3463, 0.2235, 0.2976,\n",
      "         0.0424],\n",
      "        [0.1022, 0.9234, 0.6928, 0.0723, 0.2550, 0.4107, 0.4822, 0.0987, 0.9576,\n",
      "         0.2658],\n",
      "        [0.7205, 0.4902, 0.1440, 0.2120, 0.3986, 0.4682, 0.1627, 0.1445, 0.8631,\n",
      "         0.8194],\n",
      "        [0.2027, 0.5653, 0.1510, 0.8096, 0.1248, 0.1463, 0.3397, 0.5253, 0.9743,\n",
      "         0.1177],\n",
      "        [0.8042, 0.6017, 0.0817, 0.0912, 0.9314, 0.1197, 0.6586, 0.3306, 0.8883,\n",
      "         0.4005],\n",
      "        [0.8801, 0.8648, 0.1243, 0.6502, 0.5098, 0.6872, 0.5399, 0.8740, 0.1867,\n",
      "         0.8537],\n",
      "        [0.8026, 0.2581, 0.6700, 0.6563, 0.1343, 0.3311, 0.6222, 0.8717, 0.4879,\n",
      "         0.8374],\n",
      "        [0.0088, 0.0556, 0.3072, 0.6636, 0.5879, 0.0125, 0.9720, 0.2315, 0.8211,\n",
      "         0.7174],\n",
      "        [0.4306, 0.8048, 0.3052, 0.8236, 0.7121, 0.1355, 0.5593, 0.2146, 0.2072,\n",
      "         0.6299],\n",
      "        [0.7068, 0.6296, 0.8240, 0.4847, 0.0770, 0.9339, 0.9896, 0.5893, 0.5873,\n",
      "         0.8613],\n",
      "        [0.4903, 0.2840, 0.8791, 0.1655, 0.7496, 0.9802, 0.3472, 0.6813, 0.7809,\n",
      "         0.4555],\n",
      "        [0.3085, 0.8995, 0.3653, 0.6338, 0.6333, 0.2091, 0.2290, 0.5516, 0.2623,\n",
      "         0.8901],\n",
      "        [0.2865, 0.0166, 0.9031, 0.0845, 0.3942, 0.2259, 0.1716, 0.2927, 0.4748,\n",
      "         0.0559],\n",
      "        [0.8654, 0.1939, 0.5111, 0.8972, 0.6938, 0.0750, 0.0131, 0.0915, 0.8285,\n",
      "         0.9646],\n",
      "        [0.4230, 0.0101, 0.5229, 0.3090, 0.6505, 0.2789, 0.1414, 0.8469, 0.3440,\n",
      "         0.0380],\n",
      "        [0.1730, 0.5998, 0.3492, 0.8167, 0.7615, 0.3384, 0.3820, 0.9948, 0.3449,\n",
      "         0.0621],\n",
      "        [0.0898, 0.4075, 0.8179, 0.9600, 0.1259, 0.1152, 0.1282, 0.2671, 0.8711,\n",
      "         0.6065],\n",
      "        [0.0164, 0.6965, 0.2306, 0.7094, 0.5414, 0.5389, 0.6500, 0.8817, 0.3172,\n",
      "         0.9299],\n",
      "        [0.1891, 0.7542, 0.7038, 0.4503, 0.7981, 0.3012, 0.0718, 0.1689, 0.0608,\n",
      "         0.8276],\n",
      "        [0.8635, 0.5438, 0.4571, 0.3636, 0.4400, 0.6259, 0.4059, 0.3445, 0.1034,\n",
      "         0.4897],\n",
      "        [0.9365, 0.9487, 0.2493, 0.0279, 0.4626, 0.2594, 0.1967, 0.0144, 0.4321,\n",
      "         0.6465],\n",
      "        [0.5288, 0.4122, 0.5399, 0.4685, 0.8531, 0.4676, 0.8522, 0.6459, 0.2681,\n",
      "         0.6898],\n",
      "        [0.9210, 0.9291, 0.1032, 0.7348, 0.3056, 0.7379, 0.8880, 0.1484, 0.9560,\n",
      "         0.9632],\n",
      "        [0.0609, 0.8167, 0.4886, 0.1553, 0.3197, 0.2354, 0.4979, 0.6983, 0.3410,\n",
      "         0.8965],\n",
      "        [0.8490, 0.7433, 0.3414, 0.8465, 0.2525, 0.4610, 0.0571, 0.9358, 0.7072,\n",
      "         0.1097],\n",
      "        [0.0496, 0.0522, 0.8208, 0.2488, 0.1673, 0.5238, 0.6619, 0.4782, 0.1243,\n",
      "         0.5843]])\n"
     ]
    },
    {
     "ename": "IndexError",
     "evalue": "too many indices for tensor of dimension 2",
     "output_type": "error",
     "traceback": [
      "\u001b[0;31m---------------------------------------------------------------------------\u001b[0m",
      "\u001b[0;31mIndexError\u001b[0m                                Traceback (most recent call last)",
      "Cell \u001b[0;32mIn[33], line 6\u001b[0m\n\u001b[1;32m      3\u001b[0m output \u001b[38;5;241m=\u001b[39m \u001b[38;5;28minput\u001b[39m\u001b[38;5;241m.\u001b[39mview(B\u001b[38;5;241m*\u001b[39mT, C)\n\u001b[1;32m      4\u001b[0m \u001b[38;5;28mprint\u001b[39m(output)\n\u001b[0;32m----> 6\u001b[0m \u001b[38;5;28mprint\u001b[39m(\u001b[43moutput\u001b[49m\u001b[43m[\u001b[49m\u001b[43m:\u001b[49m\u001b[43m,\u001b[49m\u001b[43m \u001b[49m\u001b[38;5;241;43m-\u001b[39;49m\u001b[38;5;241;43m1\u001b[39;49m\u001b[43m,\u001b[49m\u001b[43m \u001b[49m\u001b[43m:\u001b[49m\u001b[43m]\u001b[49m)\n",
      "\u001b[0;31mIndexError\u001b[0m: too many indices for tensor of dimension 2"
     ]
    }
   ],
   "source": [
    "input = torch.rand((4,8,10))\n",
    "B,T,C = input.shape\n",
    "output = input.view(B*T, C)\n",
    "print(output)\n",
    "\n",
    "print(output[:, -1, :])"
   ]
  },
  {
   "cell_type": "code",
   "execution_count": 34,
   "id": "46c46c87",
   "metadata": {},
   "outputs": [
    {
     "name": "stdout",
     "output_type": "stream",
     "text": [
      "ReLU(inplace=True)\n"
     ]
    }
   ],
   "source": [
    "x = torch.tensor([-0.05], dtype = torch.float32)\n",
    "y = nn.ReLU(x)\n",
    "print(y)"
   ]
  },
  {
   "cell_type": "code",
   "execution_count": 35,
   "id": "b253e860",
   "metadata": {},
   "outputs": [
    {
     "name": "stdout",
     "output_type": "stream",
     "text": [
      "tensor([0.4875])\n"
     ]
    }
   ],
   "source": [
    "x = torch.tensor([-0.05], dtype = torch.float32)\n",
    "y = F.sigmoid(x)\n",
    "print(y)"
   ]
  },
  {
   "cell_type": "code",
   "execution_count": 36,
   "id": "5e30d22d",
   "metadata": {},
   "outputs": [
    {
     "name": "stdout",
     "output_type": "stream",
     "text": [
      "tensor([-0.0500])\n"
     ]
    }
   ],
   "source": [
    "x = torch.tensor([-0.05], dtype = torch.float32)\n",
    "y = F.tanh(x)\n",
    "print(y)"
   ]
  }
 ],
 "metadata": {
  "kernelspec": {
   "display_name": ".venv",
   "language": "python",
   "name": "python3"
  },
  "language_info": {
   "codemirror_mode": {
    "name": "ipython",
    "version": 3
   },
   "file_extension": ".py",
   "mimetype": "text/x-python",
   "name": "python",
   "nbconvert_exporter": "python",
   "pygments_lexer": "ipython3",
   "version": "3.9.6"
  }
 },
 "nbformat": 4,
 "nbformat_minor": 5
}
